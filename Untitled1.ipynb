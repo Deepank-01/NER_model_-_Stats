{
 "cells": [
  {
   "cell_type": "code",
   "execution_count": 1,
   "id": "22200b18",
   "metadata": {},
   "outputs": [
    {
     "name": "stdout",
     "output_type": "stream",
     "text": [
      "Requirement already satisfied: flair in c:\\users\\asus\\appdata\\local\\programs\\python\\python310\\lib\\site-packages (0.13.1)\n",
      "Requirement already satisfied: boto3>=1.20.27 in c:\\users\\asus\\appdata\\local\\programs\\python\\python310\\lib\\site-packages (from flair) (1.34.101)\n",
      "Requirement already satisfied: bpemb>=0.3.2 in c:\\users\\asus\\appdata\\local\\programs\\python\\python310\\lib\\site-packages (from flair) (0.3.5)\n",
      "Requirement already satisfied: conllu>=4.0 in c:\\users\\asus\\appdata\\local\\programs\\python\\python310\\lib\\site-packages (from flair) (4.4.2)\n",
      "Requirement already satisfied: deprecated>=1.2.13 in c:\\users\\asus\\appdata\\local\\programs\\python\\python310\\lib\\site-packages (from flair) (1.2.14)\n",
      "Requirement already satisfied: ftfy>=6.1.0 in c:\\users\\asus\\appdata\\local\\programs\\python\\python310\\lib\\site-packages (from flair) (6.2.0)\n",
      "Requirement already satisfied: gdown>=4.4.0 in c:\\users\\asus\\appdata\\local\\programs\\python\\python310\\lib\\site-packages (from flair) (5.2.0)\n",
      "Requirement already satisfied: gensim>=4.2.0 in c:\\users\\asus\\appdata\\local\\programs\\python\\python310\\lib\\site-packages (from flair) (4.3.2)\n",
      "Requirement already satisfied: huggingface-hub>=0.10.0 in c:\\users\\asus\\appdata\\local\\programs\\python\\python310\\lib\\site-packages (from flair) (0.23.3)\n",
      "Requirement already satisfied: janome>=0.4.2 in c:\\users\\asus\\appdata\\local\\programs\\python\\python310\\lib\\site-packages (from flair) (0.5.0)\n",
      "Requirement already satisfied: langdetect>=1.0.9 in c:\\users\\asus\\appdata\\local\\programs\\python\\python310\\lib\\site-packages (from flair) (1.0.9)\n",
      "Requirement already satisfied: lxml>=4.8.0 in c:\\users\\asus\\appdata\\local\\programs\\python\\python310\\lib\\site-packages (from flair) (4.9.3)\n",
      "Requirement already satisfied: matplotlib>=2.2.3 in c:\\users\\asus\\appdata\\local\\programs\\python\\python310\\lib\\site-packages (from flair) (3.5.3)\n",
      "Requirement already satisfied: more-itertools>=8.13.0 in c:\\users\\asus\\appdata\\local\\programs\\python\\python310\\lib\\site-packages (from flair) (10.2.0)\n",
      "Requirement already satisfied: mpld3>=0.3 in c:\\users\\asus\\appdata\\local\\programs\\python\\python310\\lib\\site-packages (from flair) (0.5.10)\n",
      "Requirement already satisfied: pptree>=3.1 in c:\\users\\asus\\appdata\\local\\programs\\python\\python310\\lib\\site-packages (from flair) (3.1)\n",
      "Requirement already satisfied: python-dateutil>=2.8.2 in c:\\users\\asus\\appdata\\local\\programs\\python\\python310\\lib\\site-packages (from flair) (2.8.2)\n",
      "Requirement already satisfied: pytorch-revgrad>=0.2.0 in c:\\users\\asus\\appdata\\local\\programs\\python\\python310\\lib\\site-packages (from flair) (0.2.0)\n",
      "Requirement already satisfied: regex>=2022.1.18 in c:\\users\\asus\\appdata\\local\\programs\\python\\python310\\lib\\site-packages (from flair) (2023.12.25)\n",
      "Requirement already satisfied: scikit-learn>=1.0.2 in c:\\users\\asus\\appdata\\local\\programs\\python\\python310\\lib\\site-packages (from flair) (1.3.2)\n",
      "Requirement already satisfied: segtok>=1.5.11 in c:\\users\\asus\\appdata\\local\\programs\\python\\python310\\lib\\site-packages (from flair) (1.5.11)\n",
      "Requirement already satisfied: sqlitedict>=2.0.0 in c:\\users\\asus\\appdata\\local\\programs\\python\\python310\\lib\\site-packages (from flair) (2.1.0)\n",
      "Requirement already satisfied: tabulate>=0.8.10 in c:\\users\\asus\\appdata\\local\\programs\\python\\python310\\lib\\site-packages (from flair) (0.9.0)\n",
      "Requirement already satisfied: torch!=1.8,>=1.5.0 in c:\\users\\asus\\appdata\\local\\programs\\python\\python310\\lib\\site-packages (from flair) (1.12.1)\n",
      "Requirement already satisfied: tqdm>=4.63.0 in c:\\users\\asus\\appdata\\local\\programs\\python\\python310\\lib\\site-packages (from flair) (4.66.2)\n",
      "Requirement already satisfied: transformer-smaller-training-vocab>=0.2.3 in c:\\users\\asus\\appdata\\local\\programs\\python\\python310\\lib\\site-packages (from flair) (0.4.0)\n",
      "Requirement already satisfied: transformers<5.0.0,>=4.18.0 in c:\\users\\asus\\appdata\\local\\programs\\python\\python310\\lib\\site-packages (from transformers[sentencepiece]<5.0.0,>=4.18.0->flair) (4.36.2)\n",
      "Requirement already satisfied: urllib3<2.0.0,>=1.0.0 in c:\\users\\asus\\appdata\\local\\programs\\python\\python310\\lib\\site-packages (from flair) (1.26.18)\n",
      "Requirement already satisfied: wikipedia-api>=0.5.7 in c:\\users\\asus\\appdata\\local\\programs\\python\\python310\\lib\\site-packages (from flair) (0.6.0)\n",
      "Requirement already satisfied: semver<4.0.0,>=3.0.0 in c:\\users\\asus\\appdata\\local\\programs\\python\\python310\\lib\\site-packages (from flair) (3.0.2)\n",
      "Requirement already satisfied: botocore<1.35.0,>=1.34.101 in c:\\users\\asus\\appdata\\local\\programs\\python\\python310\\lib\\site-packages (from boto3>=1.20.27->flair) (1.34.101)\n",
      "Requirement already satisfied: jmespath<2.0.0,>=0.7.1 in c:\\users\\asus\\appdata\\local\\programs\\python\\python310\\lib\\site-packages (from boto3>=1.20.27->flair) (1.0.1)\n",
      "Requirement already satisfied: s3transfer<0.11.0,>=0.10.0 in c:\\users\\asus\\appdata\\local\\programs\\python\\python310\\lib\\site-packages (from boto3>=1.20.27->flair) (0.10.1)\n",
      "Requirement already satisfied: numpy in c:\\users\\asus\\appdata\\local\\programs\\python\\python310\\lib\\site-packages (from bpemb>=0.3.2->flair) (1.23.2)\n",
      "Requirement already satisfied: requests in c:\\users\\asus\\appdata\\local\\programs\\python\\python310\\lib\\site-packages (from bpemb>=0.3.2->flair) (2.32.3)\n",
      "Requirement already satisfied: sentencepiece in c:\\users\\asus\\appdata\\local\\programs\\python\\python310\\lib\\site-packages (from bpemb>=0.3.2->flair) (0.2.0)\n",
      "Requirement already satisfied: wrapt<2,>=1.10 in c:\\users\\asus\\appdata\\local\\programs\\python\\python310\\lib\\site-packages (from deprecated>=1.2.13->flair) (1.14.1)\n",
      "Requirement already satisfied: wcwidth<0.3.0,>=0.2.12 in c:\\users\\asus\\appdata\\local\\programs\\python\\python310\\lib\\site-packages (from ftfy>=6.1.0->flair) (0.2.13)\n",
      "Requirement already satisfied: beautifulsoup4 in c:\\users\\asus\\appdata\\local\\programs\\python\\python310\\lib\\site-packages (from gdown>=4.4.0->flair) (4.12.2)\n",
      "Requirement already satisfied: filelock in c:\\users\\asus\\appdata\\local\\programs\\python\\python310\\lib\\site-packages (from gdown>=4.4.0->flair) (3.7.1)\n",
      "Requirement already satisfied: scipy>=1.7.0 in c:\\users\\asus\\appdata\\local\\programs\\python\\python310\\lib\\site-packages (from gensim>=4.2.0->flair) (1.9.1)\n",
      "Requirement already satisfied: smart-open>=1.8.1 in c:\\users\\asus\\appdata\\local\\programs\\python\\python310\\lib\\site-packages (from gensim>=4.2.0->flair) (6.4.0)\n",
      "Requirement already satisfied: fsspec>=2023.5.0 in c:\\users\\asus\\appdata\\local\\programs\\python\\python310\\lib\\site-packages (from huggingface-hub>=0.10.0->flair) (2024.3.1)\n",
      "Requirement already satisfied: packaging>=20.9 in c:\\users\\asus\\appdata\\local\\programs\\python\\python310\\lib\\site-packages (from huggingface-hub>=0.10.0->flair) (21.3)\n",
      "Requirement already satisfied: pyyaml>=5.1 in c:\\users\\asus\\appdata\\local\\programs\\python\\python310\\lib\\site-packages (from huggingface-hub>=0.10.0->flair) (6.0)\n",
      "Requirement already satisfied: typing-extensions>=3.7.4.3 in c:\\users\\asus\\appdata\\local\\programs\\python\\python310\\lib\\site-packages (from huggingface-hub>=0.10.0->flair) (4.12.2)\n",
      "Requirement already satisfied: six in c:\\users\\asus\\appdata\\local\\programs\\python\\python310\\lib\\site-packages (from langdetect>=1.0.9->flair) (1.16.0)\n",
      "Requirement already satisfied: cycler>=0.10 in c:\\users\\asus\\appdata\\local\\programs\\python\\python310\\lib\\site-packages (from matplotlib>=2.2.3->flair) (0.11.0)\n",
      "Requirement already satisfied: fonttools>=4.22.0 in c:\\users\\asus\\appdata\\local\\programs\\python\\python310\\lib\\site-packages (from matplotlib>=2.2.3->flair) (4.35.0)\n",
      "Requirement already satisfied: kiwisolver>=1.0.1 in c:\\users\\asus\\appdata\\local\\programs\\python\\python310\\lib\\site-packages (from matplotlib>=2.2.3->flair) (1.4.4)\n",
      "Requirement already satisfied: pillow>=6.2.0 in c:\\users\\asus\\appdata\\local\\programs\\python\\python310\\lib\\site-packages (from matplotlib>=2.2.3->flair) (9.5.0)\n",
      "Requirement already satisfied: pyparsing>=2.2.1 in c:\\users\\asus\\appdata\\local\\programs\\python\\python310\\lib\\site-packages (from matplotlib>=2.2.3->flair) (3.0.9)\n",
      "Requirement already satisfied: jinja2 in c:\\users\\asus\\appdata\\local\\programs\\python\\python310\\lib\\site-packages (from mpld3>=0.3->flair) (3.0.3)\n",
      "Requirement already satisfied: joblib>=1.1.1 in c:\\users\\asus\\appdata\\local\\programs\\python\\python310\\lib\\site-packages (from scikit-learn>=1.0.2->flair) (1.3.2)\n",
      "Requirement already satisfied: threadpoolctl>=2.0.0 in c:\\users\\asus\\appdata\\local\\programs\\python\\python310\\lib\\site-packages (from scikit-learn>=1.0.2->flair) (3.2.0)\n",
      "Requirement already satisfied: colorama in c:\\users\\asus\\appdata\\local\\programs\\python\\python310\\lib\\site-packages (from tqdm>=4.63.0->flair) (0.4.6)\n",
      "Requirement already satisfied: tokenizers<0.19,>=0.14 in c:\\users\\asus\\appdata\\local\\programs\\python\\python310\\lib\\site-packages (from transformers<5.0.0,>=4.18.0->transformers[sentencepiece]<5.0.0,>=4.18.0->flair) (0.15.2)\n",
      "Requirement already satisfied: safetensors>=0.3.1 in c:\\users\\asus\\appdata\\local\\programs\\python\\python310\\lib\\site-packages (from transformers<5.0.0,>=4.18.0->transformers[sentencepiece]<5.0.0,>=4.18.0->flair) (0.4.3)\n",
      "Requirement already satisfied: protobuf in c:\\users\\asus\\appdata\\local\\programs\\python\\python310\\lib\\site-packages (from transformers[sentencepiece]<5.0.0,>=4.18.0->flair) (4.25.3)\n",
      "Requirement already satisfied: accelerate>=0.21.0 in c:\\users\\asus\\appdata\\local\\programs\\python\\python310\\lib\\site-packages (from transformers[sentencepiece,torch]<5.0,>=4.1->transformer-smaller-training-vocab>=0.2.3->flair) (0.30.0)\n",
      "Requirement already satisfied: soupsieve>1.2 in c:\\users\\asus\\appdata\\local\\programs\\python\\python310\\lib\\site-packages (from beautifulsoup4->gdown>=4.4.0->flair) (2.4.1)\n",
      "Requirement already satisfied: MarkupSafe>=2.0 in c:\\users\\asus\\appdata\\local\\programs\\python\\python310\\lib\\site-packages (from jinja2->mpld3>=0.3->flair) (2.0.1)\n",
      "Requirement already satisfied: charset-normalizer<4,>=2 in c:\\users\\asus\\appdata\\local\\programs\\python\\python310\\lib\\site-packages (from requests->bpemb>=0.3.2->flair) (3.1.0)\n",
      "Requirement already satisfied: idna<4,>=2.5 in c:\\users\\asus\\appdata\\local\\programs\\python\\python310\\lib\\site-packages (from requests->bpemb>=0.3.2->flair) (3.4)\n",
      "Requirement already satisfied: certifi>=2017.4.17 in c:\\users\\asus\\appdata\\local\\programs\\python\\python310\\lib\\site-packages (from requests->bpemb>=0.3.2->flair) (2023.5.7)\n",
      "Requirement already satisfied: PySocks!=1.5.7,>=1.5.6 in c:\\users\\asus\\appdata\\local\\programs\\python\\python310\\lib\\site-packages (from requests[socks]->gdown>=4.4.0->flair) (1.7.1)\n",
      "Requirement already satisfied: psutil in c:\\users\\asus\\appdata\\local\\programs\\python\\python310\\lib\\site-packages (from accelerate>=0.21.0->transformers[sentencepiece,torch]<5.0,>=4.1->transformer-smaller-training-vocab>=0.2.3->flair) (5.9.5)\n",
      "Note: you may need to restart the kernel to use updated packages.\n"
     ]
    },
    {
     "name": "stderr",
     "output_type": "stream",
     "text": [
      "\n",
      "[notice] A new release of pip is available: 24.0 -> 24.1.2\n",
      "[notice] To update, run: python.exe -m pip install --upgrade pip\n"
     ]
    }
   ],
   "source": [
    "pip install flair  "
   ]
  },
  {
   "cell_type": "code",
   "execution_count": 9,
   "id": "5ffa75f8",
   "metadata": {},
   "outputs": [
    {
     "name": "stdout",
     "output_type": "stream",
     "text": [
      "Requirement already satisfied: allennlp in c:\\users\\asus\\appdata\\local\\programs\\python\\python310\\lib\\site-packages (2.10.1)\n",
      "Requirement already satisfied: torch<1.13.0,>=1.10.0 in c:\\users\\asus\\appdata\\local\\programs\\python\\python310\\lib\\site-packages (from allennlp) (1.12.1)\n",
      "Requirement already satisfied: torchvision<0.14.0,>=0.8.1 in c:\\users\\asus\\appdata\\local\\programs\\python\\python310\\lib\\site-packages (from allennlp) (0.13.1)\n",
      "Requirement already satisfied: cached-path<1.2.0,>=1.1.3 in c:\\users\\asus\\appdata\\local\\programs\\python\\python310\\lib\\site-packages (from allennlp) (1.1.6)\n",
      "Requirement already satisfied: fairscale==0.4.6 in c:\\users\\asus\\appdata\\local\\programs\\python\\python310\\lib\\site-packages (from allennlp) (0.4.6)\n",
      "Requirement already satisfied: nltk>=3.6.5 in c:\\users\\asus\\appdata\\local\\programs\\python\\python310\\lib\\site-packages (from allennlp) (3.8.1)\n",
      "Requirement already satisfied: spacy<3.4,>=2.1.0 in c:\\users\\asus\\appdata\\local\\programs\\python\\python310\\lib\\site-packages (from allennlp) (3.3.3)\n",
      "Requirement already satisfied: numpy>=1.21.4 in c:\\users\\asus\\appdata\\local\\programs\\python\\python310\\lib\\site-packages (from allennlp) (1.23.2)\n",
      "Requirement already satisfied: tensorboardX>=1.2 in c:\\users\\asus\\appdata\\local\\programs\\python\\python310\\lib\\site-packages (from allennlp) (2.6.2.2)\n",
      "Requirement already satisfied: requests>=2.28 in c:\\users\\asus\\appdata\\local\\programs\\python\\python310\\lib\\site-packages (from allennlp) (2.32.3)\n",
      "Requirement already satisfied: tqdm>=4.62 in c:\\users\\asus\\appdata\\local\\programs\\python\\python310\\lib\\site-packages (from allennlp) (4.66.2)\n",
      "Requirement already satisfied: h5py>=3.6.0 in c:\\users\\asus\\appdata\\local\\programs\\python\\python310\\lib\\site-packages (from allennlp) (3.8.0)\n",
      "Requirement already satisfied: scikit-learn>=1.0.1 in c:\\users\\asus\\appdata\\local\\programs\\python\\python310\\lib\\site-packages (from allennlp) (1.3.2)\n",
      "Requirement already satisfied: scipy>=1.7.3 in c:\\users\\asus\\appdata\\local\\programs\\python\\python310\\lib\\site-packages (from allennlp) (1.9.1)\n",
      "Requirement already satisfied: pytest>=6.2.5 in c:\\users\\asus\\appdata\\local\\programs\\python\\python310\\lib\\site-packages (from allennlp) (8.2.2)\n",
      "Requirement already satisfied: transformers<4.21,>=4.1 in c:\\users\\asus\\appdata\\local\\programs\\python\\python310\\lib\\site-packages (from allennlp) (4.20.1)\n",
      "Requirement already satisfied: sentencepiece>=0.1.96 in c:\\users\\asus\\appdata\\local\\programs\\python\\python310\\lib\\site-packages (from allennlp) (0.2.0)\n",
      "Requirement already satisfied: filelock<3.8,>=3.3 in c:\\users\\asus\\appdata\\local\\programs\\python\\python310\\lib\\site-packages (from allennlp) (3.7.1)\n",
      "Requirement already satisfied: lmdb>=1.2.1 in c:\\users\\asus\\appdata\\local\\programs\\python\\python310\\lib\\site-packages (from allennlp) (1.4.1)\n",
      "Requirement already satisfied: more-itertools>=8.12.0 in c:\\users\\asus\\appdata\\local\\programs\\python\\python310\\lib\\site-packages (from allennlp) (10.2.0)\n",
      "Requirement already satisfied: termcolor==1.1.0 in c:\\users\\asus\\appdata\\local\\programs\\python\\python310\\lib\\site-packages (from allennlp) (1.1.0)\n",
      "Requirement already satisfied: wandb<0.13.0,>=0.10.0 in c:\\users\\asus\\appdata\\local\\programs\\python\\python310\\lib\\site-packages (from allennlp) (0.12.21)\n",
      "Requirement already satisfied: huggingface-hub>=0.0.16 in c:\\users\\asus\\appdata\\local\\programs\\python\\python310\\lib\\site-packages (from allennlp) (0.10.1)\n",
      "Requirement already satisfied: dill>=0.3.4 in c:\\users\\asus\\appdata\\local\\programs\\python\\python310\\lib\\site-packages (from allennlp) (0.3.6)\n",
      "Requirement already satisfied: base58>=2.1.1 in c:\\users\\asus\\appdata\\local\\programs\\python\\python310\\lib\\site-packages (from allennlp) (2.1.1)\n",
      "Requirement already satisfied: sacremoses in c:\\users\\asus\\appdata\\local\\programs\\python\\python310\\lib\\site-packages (from allennlp) (0.1.1)\n",
      "Requirement already satisfied: typer>=0.4.1 in c:\\users\\asus\\appdata\\local\\programs\\python\\python310\\lib\\site-packages (from allennlp) (0.4.2)\n",
      "Requirement already satisfied: protobuf<4.0.0,>=3.12.0 in c:\\users\\asus\\appdata\\local\\programs\\python\\python310\\lib\\site-packages (from allennlp) (3.20.3)\n",
      "Requirement already satisfied: traitlets>5.1.1 in c:\\users\\asus\\appdata\\local\\programs\\python\\python310\\lib\\site-packages (from allennlp) (5.9.0)\n",
      "Requirement already satisfied: rich<13.0,>=12.1 in c:\\users\\asus\\appdata\\local\\programs\\python\\python310\\lib\\site-packages (from cached-path<1.2.0,>=1.1.3->allennlp) (12.6.0)\n",
      "Requirement already satisfied: boto3<2.0,>=1.0 in c:\\users\\asus\\appdata\\local\\programs\\python\\python310\\lib\\site-packages (from cached-path<1.2.0,>=1.1.3->allennlp) (1.34.101)\n",
      "Requirement already satisfied: google-cloud-storage<3.0,>=1.32.0 in c:\\users\\asus\\appdata\\local\\programs\\python\\python310\\lib\\site-packages (from cached-path<1.2.0,>=1.1.3->allennlp) (2.16.0)\n",
      "Requirement already satisfied: pyyaml>=5.1 in c:\\users\\asus\\appdata\\local\\programs\\python\\python310\\lib\\site-packages (from huggingface-hub>=0.0.16->allennlp) (6.0)\n",
      "Requirement already satisfied: typing-extensions>=3.7.4.3 in c:\\users\\asus\\appdata\\local\\programs\\python\\python310\\lib\\site-packages (from huggingface-hub>=0.0.16->allennlp) (4.5.0)\n",
      "Requirement already satisfied: packaging>=20.9 in c:\\users\\asus\\appdata\\local\\programs\\python\\python310\\lib\\site-packages (from huggingface-hub>=0.0.16->allennlp) (21.3)\n",
      "Requirement already satisfied: click in c:\\users\\asus\\appdata\\local\\programs\\python\\python310\\lib\\site-packages (from nltk>=3.6.5->allennlp) (8.0.3)\n",
      "Requirement already satisfied: joblib in c:\\users\\asus\\appdata\\local\\programs\\python\\python310\\lib\\site-packages (from nltk>=3.6.5->allennlp) (1.3.2)\n",
      "Requirement already satisfied: regex>=2021.8.3 in c:\\users\\asus\\appdata\\local\\programs\\python\\python310\\lib\\site-packages (from nltk>=3.6.5->allennlp) (2023.12.25)\n",
      "Requirement already satisfied: iniconfig in c:\\users\\asus\\appdata\\local\\programs\\python\\python310\\lib\\site-packages (from pytest>=6.2.5->allennlp) (2.0.0)\n",
      "Requirement already satisfied: pluggy<2.0,>=1.5 in c:\\users\\asus\\appdata\\local\\programs\\python\\python310\\lib\\site-packages (from pytest>=6.2.5->allennlp) (1.5.0)\n",
      "Requirement already satisfied: exceptiongroup>=1.0.0rc8 in c:\\users\\asus\\appdata\\local\\programs\\python\\python310\\lib\\site-packages (from pytest>=6.2.5->allennlp) (1.1.1)\n",
      "Requirement already satisfied: tomli>=1 in c:\\users\\asus\\appdata\\local\\programs\\python\\python310\\lib\\site-packages (from pytest>=6.2.5->allennlp) (2.0.1)\n",
      "Requirement already satisfied: colorama in c:\\users\\asus\\appdata\\local\\programs\\python\\python310\\lib\\site-packages (from pytest>=6.2.5->allennlp) (0.4.6)\n",
      "Requirement already satisfied: charset-normalizer<4,>=2 in c:\\users\\asus\\appdata\\local\\programs\\python\\python310\\lib\\site-packages (from requests>=2.28->allennlp) (3.1.0)\n",
      "Requirement already satisfied: idna<4,>=2.5 in c:\\users\\asus\\appdata\\local\\programs\\python\\python310\\lib\\site-packages (from requests>=2.28->allennlp) (3.4)\n",
      "Requirement already satisfied: urllib3<3,>=1.21.1 in c:\\users\\asus\\appdata\\local\\programs\\python\\python310\\lib\\site-packages (from requests>=2.28->allennlp) (1.26.18)\n",
      "Requirement already satisfied: certifi>=2017.4.17 in c:\\users\\asus\\appdata\\local\\programs\\python\\python310\\lib\\site-packages (from requests>=2.28->allennlp) (2023.5.7)\n",
      "Requirement already satisfied: threadpoolctl>=2.0.0 in c:\\users\\asus\\appdata\\local\\programs\\python\\python310\\lib\\site-packages (from scikit-learn>=1.0.1->allennlp) (3.2.0)\n",
      "Requirement already satisfied: spacy-legacy<3.1.0,>=3.0.9 in c:\\users\\asus\\appdata\\local\\programs\\python\\python310\\lib\\site-packages (from spacy<3.4,>=2.1.0->allennlp) (3.0.12)\n",
      "Requirement already satisfied: spacy-loggers<2.0.0,>=1.0.0 in c:\\users\\asus\\appdata\\local\\programs\\python\\python310\\lib\\site-packages (from spacy<3.4,>=2.1.0->allennlp) (1.0.5)\n",
      "Requirement already satisfied: murmurhash<1.1.0,>=0.28.0 in c:\\users\\asus\\appdata\\local\\programs\\python\\python310\\lib\\site-packages (from spacy<3.4,>=2.1.0->allennlp) (1.0.10)\n",
      "Requirement already satisfied: cymem<2.1.0,>=2.0.2 in c:\\users\\asus\\appdata\\local\\programs\\python\\python310\\lib\\site-packages (from spacy<3.4,>=2.1.0->allennlp) (2.0.8)\n",
      "Requirement already satisfied: preshed<3.1.0,>=3.0.2 in c:\\users\\asus\\appdata\\local\\programs\\python\\python310\\lib\\site-packages (from spacy<3.4,>=2.1.0->allennlp) (3.0.9)\n",
      "Requirement already satisfied: thinc<8.1.0,>=8.0.14 in c:\\users\\asus\\appdata\\local\\programs\\python\\python310\\lib\\site-packages (from spacy<3.4,>=2.1.0->allennlp) (8.0.17)\n",
      "Requirement already satisfied: blis<0.8.0,>=0.4.0 in c:\\users\\asus\\appdata\\local\\programs\\python\\python310\\lib\\site-packages (from spacy<3.4,>=2.1.0->allennlp) (0.7.11)\n",
      "Requirement already satisfied: wasabi<1.1.0,>=0.9.1 in c:\\users\\asus\\appdata\\local\\programs\\python\\python310\\lib\\site-packages (from spacy<3.4,>=2.1.0->allennlp) (0.10.1)\n",
      "Requirement already satisfied: srsly<3.0.0,>=2.4.3 in c:\\users\\asus\\appdata\\local\\programs\\python\\python310\\lib\\site-packages (from spacy<3.4,>=2.1.0->allennlp) (2.4.8)\n",
      "Requirement already satisfied: catalogue<2.1.0,>=2.0.6 in c:\\users\\asus\\appdata\\local\\programs\\python\\python310\\lib\\site-packages (from spacy<3.4,>=2.1.0->allennlp) (2.0.10)\n",
      "Requirement already satisfied: pathy>=0.3.5 in c:\\users\\asus\\appdata\\local\\programs\\python\\python310\\lib\\site-packages (from spacy<3.4,>=2.1.0->allennlp) (0.11.0)\n",
      "Requirement already satisfied: smart-open<7.0.0,>=5.2.1 in c:\\users\\asus\\appdata\\local\\programs\\python\\python310\\lib\\site-packages (from spacy<3.4,>=2.1.0->allennlp) (6.4.0)\n",
      "Requirement already satisfied: pydantic!=1.8,!=1.8.1,<1.9.0,>=1.7.4 in c:\\users\\asus\\appdata\\local\\programs\\python\\python310\\lib\\site-packages (from spacy<3.4,>=2.1.0->allennlp) (1.8.2)\n",
      "Requirement already satisfied: jinja2 in c:\\users\\asus\\appdata\\local\\programs\\python\\python310\\lib\\site-packages (from spacy<3.4,>=2.1.0->allennlp) (3.0.3)\n",
      "Requirement already satisfied: setuptools in c:\\users\\asus\\appdata\\local\\programs\\python\\python310\\lib\\site-packages (from spacy<3.4,>=2.1.0->allennlp) (68.2.2)\n",
      "Requirement already satisfied: langcodes<4.0.0,>=3.2.0 in c:\\users\\asus\\appdata\\local\\programs\\python\\python310\\lib\\site-packages (from spacy<3.4,>=2.1.0->allennlp) (3.4.0)\n",
      "Requirement already satisfied: pillow!=8.3.*,>=5.3.0 in c:\\users\\asus\\appdata\\local\\programs\\python\\python310\\lib\\site-packages (from torchvision<0.14.0,>=0.8.1->allennlp) (9.5.0)\n",
      "Requirement already satisfied: tokenizers!=0.11.3,<0.13,>=0.11.1 in c:\\users\\asus\\appdata\\local\\programs\\python\\python310\\lib\\site-packages (from transformers<4.21,>=4.1->allennlp) (0.12.1)\n",
      "Requirement already satisfied: GitPython>=1.0.0 in c:\\users\\asus\\appdata\\local\\programs\\python\\python310\\lib\\site-packages (from wandb<0.13.0,>=0.10.0->allennlp) (3.1.40)\n",
      "Requirement already satisfied: promise<3,>=2.0 in c:\\users\\asus\\appdata\\local\\programs\\python\\python310\\lib\\site-packages (from wandb<0.13.0,>=0.10.0->allennlp) (2.3)\n",
      "Requirement already satisfied: shortuuid>=0.5.0 in c:\\users\\asus\\appdata\\local\\programs\\python\\python310\\lib\\site-packages (from wandb<0.13.0,>=0.10.0->allennlp) (1.0.13)\n",
      "Requirement already satisfied: psutil>=5.0.0 in c:\\users\\asus\\appdata\\local\\programs\\python\\python310\\lib\\site-packages (from wandb<0.13.0,>=0.10.0->allennlp) (5.9.5)\n",
      "Requirement already satisfied: sentry-sdk>=1.0.0 in c:\\users\\asus\\appdata\\local\\programs\\python\\python310\\lib\\site-packages (from wandb<0.13.0,>=0.10.0->allennlp) (2.4.0)\n",
      "Requirement already satisfied: six>=1.13.0 in c:\\users\\asus\\appdata\\local\\programs\\python\\python310\\lib\\site-packages (from wandb<0.13.0,>=0.10.0->allennlp) (1.16.0)\n",
      "Requirement already satisfied: docker-pycreds>=0.4.0 in c:\\users\\asus\\appdata\\local\\programs\\python\\python310\\lib\\site-packages (from wandb<0.13.0,>=0.10.0->allennlp) (0.4.0)\n",
      "Requirement already satisfied: pathtools in c:\\users\\asus\\appdata\\local\\programs\\python\\python310\\lib\\site-packages (from wandb<0.13.0,>=0.10.0->allennlp) (0.1.2)\n",
      "Requirement already satisfied: setproctitle in c:\\users\\asus\\appdata\\local\\programs\\python\\python310\\lib\\site-packages (from wandb<0.13.0,>=0.10.0->allennlp) (1.3.3)\n",
      "Requirement already satisfied: botocore<1.35.0,>=1.34.101 in c:\\users\\asus\\appdata\\local\\programs\\python\\python310\\lib\\site-packages (from boto3<2.0,>=1.0->cached-path<1.2.0,>=1.1.3->allennlp) (1.34.101)\n",
      "Requirement already satisfied: jmespath<2.0.0,>=0.7.1 in c:\\users\\asus\\appdata\\local\\programs\\python\\python310\\lib\\site-packages (from boto3<2.0,>=1.0->cached-path<1.2.0,>=1.1.3->allennlp) (1.0.1)\n",
      "Requirement already satisfied: s3transfer<0.11.0,>=0.10.0 in c:\\users\\asus\\appdata\\local\\programs\\python\\python310\\lib\\site-packages (from boto3<2.0,>=1.0->cached-path<1.2.0,>=1.1.3->allennlp) (0.10.1)\n",
      "Requirement already satisfied: gitdb<5,>=4.0.1 in c:\\users\\asus\\appdata\\local\\programs\\python\\python310\\lib\\site-packages (from GitPython>=1.0.0->wandb<0.13.0,>=0.10.0->allennlp) (4.0.11)\n",
      "Requirement already satisfied: google-auth<3.0dev,>=2.26.1 in c:\\users\\asus\\appdata\\local\\programs\\python\\python310\\lib\\site-packages (from google-cloud-storage<3.0,>=1.32.0->cached-path<1.2.0,>=1.1.3->allennlp) (2.29.0)\n",
      "Requirement already satisfied: google-api-core<3.0.0dev,>=2.15.0 in c:\\users\\asus\\appdata\\local\\programs\\python\\python310\\lib\\site-packages (from google-cloud-storage<3.0,>=1.32.0->cached-path<1.2.0,>=1.1.3->allennlp) (2.19.0)\n",
      "Requirement already satisfied: google-cloud-core<3.0dev,>=2.3.0 in c:\\users\\asus\\appdata\\local\\programs\\python\\python310\\lib\\site-packages (from google-cloud-storage<3.0,>=1.32.0->cached-path<1.2.0,>=1.1.3->allennlp) (2.4.1)\n",
      "Requirement already satisfied: google-resumable-media>=2.6.0 in c:\\users\\asus\\appdata\\local\\programs\\python\\python310\\lib\\site-packages (from google-cloud-storage<3.0,>=1.32.0->cached-path<1.2.0,>=1.1.3->allennlp) (2.7.0)\n",
      "Requirement already satisfied: google-crc32c<2.0dev,>=1.0 in c:\\users\\asus\\appdata\\local\\programs\\python\\python310\\lib\\site-packages (from google-cloud-storage<3.0,>=1.32.0->cached-path<1.2.0,>=1.1.3->allennlp) (1.5.0)\n",
      "Requirement already satisfied: language-data>=1.2 in c:\\users\\asus\\appdata\\local\\programs\\python\\python310\\lib\\site-packages (from langcodes<4.0.0,>=3.2.0->spacy<3.4,>=2.1.0->allennlp) (1.2.0)\n",
      "Requirement already satisfied: pyparsing!=3.0.5,>=2.0.2 in c:\\users\\asus\\appdata\\local\\programs\\python\\python310\\lib\\site-packages (from packaging>=20.9->huggingface-hub>=0.0.16->allennlp) (3.0.9)\n",
      "Requirement already satisfied: pathlib-abc==0.1.1 in c:\\users\\asus\\appdata\\local\\programs\\python\\python310\\lib\\site-packages (from pathy>=0.3.5->spacy<3.4,>=2.1.0->allennlp) (0.1.1)\n",
      "Requirement already satisfied: commonmark<0.10.0,>=0.9.0 in c:\\users\\asus\\appdata\\local\\programs\\python\\python310\\lib\\site-packages (from rich<13.0,>=12.1->cached-path<1.2.0,>=1.1.3->allennlp) (0.9.1)\n",
      "Requirement already satisfied: pygments<3.0.0,>=2.6.0 in c:\\users\\asus\\appdata\\local\\programs\\python\\python310\\lib\\site-packages (from rich<13.0,>=12.1->cached-path<1.2.0,>=1.1.3->allennlp) (2.15.1)\n",
      "Requirement already satisfied: MarkupSafe>=2.0 in c:\\users\\asus\\appdata\\local\\programs\\python\\python310\\lib\\site-packages (from jinja2->spacy<3.4,>=2.1.0->allennlp) (2.0.1)\n",
      "Requirement already satisfied: python-dateutil<3.0.0,>=2.1 in c:\\users\\asus\\appdata\\local\\programs\\python\\python310\\lib\\site-packages (from botocore<1.35.0,>=1.34.101->boto3<2.0,>=1.0->cached-path<1.2.0,>=1.1.3->allennlp) (2.8.2)\n",
      "Requirement already satisfied: smmap<6,>=3.0.1 in c:\\users\\asus\\appdata\\local\\programs\\python\\python310\\lib\\site-packages (from gitdb<5,>=4.0.1->GitPython>=1.0.0->wandb<0.13.0,>=0.10.0->allennlp) (5.0.1)\n",
      "Requirement already satisfied: googleapis-common-protos<2.0.dev0,>=1.56.2 in c:\\users\\asus\\appdata\\local\\programs\\python\\python310\\lib\\site-packages (from google-api-core<3.0.0dev,>=2.15.0->google-cloud-storage<3.0,>=1.32.0->cached-path<1.2.0,>=1.1.3->allennlp) (1.63.1)\n",
      "Requirement already satisfied: proto-plus<2.0.0dev,>=1.22.3 in c:\\users\\asus\\appdata\\local\\programs\\python\\python310\\lib\\site-packages (from google-api-core<3.0.0dev,>=2.15.0->google-cloud-storage<3.0,>=1.32.0->cached-path<1.2.0,>=1.1.3->allennlp) (1.23.0)\n",
      "Requirement already satisfied: cachetools<6.0,>=2.0.0 in c:\\users\\asus\\appdata\\local\\programs\\python\\python310\\lib\\site-packages (from google-auth<3.0dev,>=2.26.1->google-cloud-storage<3.0,>=1.32.0->cached-path<1.2.0,>=1.1.3->allennlp) (5.3.0)\n",
      "Requirement already satisfied: pyasn1-modules>=0.2.1 in c:\\users\\asus\\appdata\\local\\programs\\python\\python310\\lib\\site-packages (from google-auth<3.0dev,>=2.26.1->google-cloud-storage<3.0,>=1.32.0->cached-path<1.2.0,>=1.1.3->allennlp) (0.3.0)\n",
      "Requirement already satisfied: rsa<5,>=3.1.4 in c:\\users\\asus\\appdata\\local\\programs\\python\\python310\\lib\\site-packages (from google-auth<3.0dev,>=2.26.1->google-cloud-storage<3.0,>=1.32.0->cached-path<1.2.0,>=1.1.3->allennlp) (4.9)\n",
      "Requirement already satisfied: marisa-trie>=0.7.7 in c:\\users\\asus\\appdata\\local\\programs\\python\\python310\\lib\\site-packages (from language-data>=1.2->langcodes<4.0.0,>=3.2.0->spacy<3.4,>=2.1.0->allennlp) (1.1.1)\n",
      "Requirement already satisfied: pyasn1<0.6.0,>=0.4.6 in c:\\users\\asus\\appdata\\local\\programs\\python\\python310\\lib\\site-packages (from pyasn1-modules>=0.2.1->google-auth<3.0dev,>=2.26.1->google-cloud-storage<3.0,>=1.32.0->cached-path<1.2.0,>=1.1.3->allennlp) (0.5.0)\n",
      "Note: you may need to restart the kernel to use updated packages.\n"
     ]
    },
    {
     "name": "stderr",
     "output_type": "stream",
     "text": [
      "\n",
      "[notice] A new release of pip is available: 24.0 -> 24.1.2\n",
      "[notice] To update, run: python.exe -m pip install --upgrade pip\n"
     ]
    }
   ],
   "source": [
    "pip install allennlp  --upgrade allennlp\n"
   ]
  },
  {
   "cell_type": "code",
   "execution_count": 10,
   "id": "afd6b327",
   "metadata": {},
   "outputs": [
    {
     "name": "stdout",
     "output_type": "stream",
     "text": [
      "Name: allennlp\n",
      "Version: 2.10.1\n",
      "Summary: An open-source NLP research library, built on PyTorch.\n",
      "Home-page: https://github.com/allenai/allennlp\n",
      "Author: Allen Institute for Artificial Intelligence\n",
      "Author-email: allennlp@allenai.org\n",
      "License: Apache\n",
      "Location: c:\\users\\asus\\appdata\\local\\programs\\python\\python310\\lib\\site-packages\n",
      "Requires: base58, cached-path, dill, fairscale, filelock, h5py, huggingface-hub, lmdb, more-itertools, nltk, numpy, protobuf, pytest, requests, sacremoses, scikit-learn, scipy, sentencepiece, spacy, tensorboardX, termcolor, torch, torchvision, tqdm, traitlets, transformers, typer, wandb\n",
      "Required-by: allennlp-models\n"
     ]
    }
   ],
   "source": [
    "! pip show allennlp"
   ]
  },
  {
   "cell_type": "code",
   "execution_count": 2,
   "id": "2776badf",
   "metadata": {},
   "outputs": [
    {
     "name": "stdout",
     "output_type": "stream",
     "text": [
      "2024-07-15 12:05:41,636 SequenceTagger predicts: Dictionary with 53 tags: <unk>, O, UH, ,, VBD, PRP, VB, PRP$, NN, RB, ., DT, JJ, VBP, VBG, IN, CD, NNS, NNP, WRB, VBZ, WDT, CC, TO, MD, VBN, WP, :, RP, EX, JJR, FW, XX, HYPH, POS, RBR, JJS, PDT, NNPS, RBS, AFX, WP$, -LRB-, -RRB-, ``, '', LS, $, SYM, ADD\n",
      "Sentence[4]: \"I love Berlin.\" → [\"I\"/PRP, \"love\"/VBP, \"Berlin\"/NNP, \".\"/.]\n",
      "The following NER tags are found:\n"
     ]
    }
   ],
   "source": [
    "from flair.data import Sentence\n",
    "from flair.models import SequenceTagger\n",
    "\n",
    "# load tagger\n",
    "tagger = SequenceTagger.load(\"flair/pos-english\")\n",
    "\n",
    "# make example sentence\n",
    "sentence = Sentence(\"I love Berlin.\")\n",
    "\n",
    "# predict NER tags\n",
    "tagger.predict(sentence)\n",
    "\n",
    "# print sentence\n",
    "print(sentence)\n",
    "\n",
    "# print predicted NER spans\n",
    "print('The following NER tags are found:')\n",
    "# iterate over entities and print\n",
    "for entity in sentence.get_spans('pos'):\n",
    "    print(entity)\n"
   ]
  },
  {
   "cell_type": "code",
   "execution_count": 5,
   "id": "ae4c91b3",
   "metadata": {},
   "outputs": [
    {
     "name": "stdout",
     "output_type": "stream",
     "text": [
      "Note: you may need to restart the kernel to use updated packages.\n"
     ]
    }
   ],
   "source": [
    "pip freeze > flair.txt"
   ]
  },
  {
   "cell_type": "code",
   "execution_count": 6,
   "id": "6ec02788",
   "metadata": {},
   "outputs": [
    {
     "data": {
      "application/vnd.jupyter.widget-view+json": {
       "model_id": "e412190e5db64f53b707b1823ac9653c",
       "version_major": 2,
       "version_minor": 0
      },
      "text/plain": [
       "pytorch_model.bin:   0%|          | 0.00/432M [00:00<?, ?B/s]"
      ]
     },
     "metadata": {},
     "output_type": "display_data"
    },
    {
     "name": "stderr",
     "output_type": "stream",
     "text": [
      "C:\\Users\\Asus\\AppData\\Local\\Programs\\Python\\Python310\\lib\\site-packages\\huggingface_hub\\file_download.py:157: UserWarning: `huggingface_hub` cache-system uses symlinks by default to efficiently store duplicated files but your machine does not support them in C:\\Users\\Asus\\.flair\\models\\ner-english\\models--flair--ner-english. Caching files will still work but in a degraded version that might require more space on your disk. This warning can be disabled by setting the `HF_HUB_DISABLE_SYMLINKS_WARNING` environment variable. For more details, see https://huggingface.co/docs/huggingface_hub/how-to-cache#limitations.\n",
      "To support symlinks on Windows, you either need to activate Developer Mode or to run Python as an administrator. In order to see activate developer mode, see this article: https://docs.microsoft.com/en-us/windows/apps/get-started/enable-your-device-for-development\n",
      "  warnings.warn(message)\n"
     ]
    },
    {
     "name": "stdout",
     "output_type": "stream",
     "text": [
      "2024-07-15 12:30:30,054 SequenceTagger predicts: Dictionary with 20 tags: <unk>, O, S-ORG, S-MISC, B-PER, E-PER, S-LOC, B-ORG, E-ORG, I-PER, S-PER, B-MISC, I-MISC, E-MISC, I-ORG, B-LOC, E-LOC, I-LOC, <START>, <STOP>\n",
      "Sentence[4]: \"I love Berlin .\" → [\"Berlin\"/LOC]\n"
     ]
    }
   ],
   "source": [
    "from flair.data import Sentence\n",
    "from flair.nn import Classifier\n",
    "\n",
    "# make a sentence\n",
    "sentence = Sentence('I love Berlin .')\n",
    "\n",
    "# load the NER tagger\n",
    "tagger = Classifier.load('ner')\n",
    "\n",
    "# run NER over sentence\n",
    "tagger.predict(sentence)\n",
    "\n",
    "# print the sentence with all annotations\n",
    "print(sentence)"
   ]
  }
 ],
 "metadata": {
  "kernelspec": {
   "display_name": "Python 3 (ipykernel)",
   "language": "python",
   "name": "python3"
  },
  "language_info": {
   "codemirror_mode": {
    "name": "ipython",
    "version": 3
   },
   "file_extension": ".py",
   "mimetype": "text/x-python",
   "name": "python",
   "nbconvert_exporter": "python",
   "pygments_lexer": "ipython3",
   "version": "3.10.2"
  }
 },
 "nbformat": 4,
 "nbformat_minor": 5
}
